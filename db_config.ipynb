{
 "cells": [
  {
   "cell_type": "code",
   "execution_count": 32,
   "metadata": {},
   "outputs": [],
   "source": [
    "import management as mt"
   ]
  },
  {
   "cell_type": "code",
   "execution_count": 33,
   "metadata": {},
   "outputs": [],
   "source": [
    "mt.create_data_table()"
   ]
  },
  {
   "cell_type": "code",
   "execution_count": 50,
   "metadata": {},
   "outputs": [],
   "source": [
    "#  Code, Name, Credits, Teacher, Schedule, Days\n",
    "\n",
    "#mt.add_data('510140-8', 'Física I[8]', 4, 'null', 'X-V','2-3, 4')\n",
    "#mt.add_data('527140-6', 'Cálculo I[6]', 5, 'null', 'M-J', '0-1, 0-1')\n",
    "#mt.add_data('525140-6', 'Álgebra I[6]', 5, 'null', 'M-J', '2-3, 2-3')"
   ]
  },
  {
   "cell_type": "code",
   "execution_count": 51,
   "metadata": {},
   "outputs": [
    {
     "name": "stdout",
     "output_type": "stream",
     "text": [
      "('527140-6', 'Cálculo I[6]')\n",
      "('525140-6', 'Álgebra I[6]')\n",
      "('510140-8', 'Física I[8]')\n"
     ]
    }
   ],
   "source": [
    "mt.show_data() # Code, Name "
   ]
  },
  {
   "cell_type": "code",
   "execution_count": 48,
   "metadata": {},
   "outputs": [],
   "source": [
    "mt.del_data('510140-8') # Code"
   ]
  },
  {
   "cell_type": "code",
   "execution_count": null,
   "metadata": {},
   "outputs": [],
   "source": []
  }
 ],
 "metadata": {
  "kernelspec": {
   "display_name": "Python 3",
   "language": "python",
   "name": "python3"
  },
  "language_info": {
   "codemirror_mode": {
    "name": "ipython",
    "version": 3
   },
   "file_extension": ".py",
   "mimetype": "text/x-python",
   "name": "python",
   "nbconvert_exporter": "python",
   "pygments_lexer": "ipython3",
   "version": "3.8.5"
  }
 },
 "nbformat": 4,
 "nbformat_minor": 4
}
